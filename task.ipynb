{
 "cells": [
  {
   "cell_type": "markdown",
   "id": "0f298aaf",
   "metadata": {},
   "source": [
    "# Task:\n",
    "- Write a program to check wheather the user eligible for vote or not\n",
    "- Check the given number is positive or negative\n",
    "- check the given number is even or odd if it's even check which is divisible by 4 or not\n",
    "- write a program to print student grade based on persentage like Distinction,pass or fail\n",
    "- Check the given year is Leap or not\n"
   ]
  },
  {
   "cell_type": "code",
   "execution_count": 1,
   "id": "f61aa6d8",
   "metadata": {},
   "outputs": [
    {
     "name": "stdout",
     "output_type": "stream",
     "text": [
      "enter your age :19\n",
      "You are eligible for voting\n"
     ]
    }
   ],
   "source": [
    "A=int(input(\"enter your age :\"))\n",
    "if A<=18:\n",
    "    print(\"You are not eligible for voting\")\n",
    "else:\n",
    "    print(\"You are eligible for voting\")"
   ]
  },
  {
   "cell_type": "code",
   "execution_count": 2,
   "id": "6450045f",
   "metadata": {},
   "outputs": [
    {
     "name": "stdout",
     "output_type": "stream",
     "text": [
      "Enter any nunber0\n",
      "you have entered a neither negative nor positive number\n"
     ]
    }
   ],
   "source": [
    "I = int(input(\"Enter any nunber\"))\n",
    "if I<0:\n",
    "    print(\"you have entered a negative number\")\n",
    "elif I==0:\n",
    "    print(\"you have entered a neither negative nor positive number\")\n",
    "else:\n",
    "    print(\"you have entered a positive number\")"
   ]
  },
  {
   "cell_type": "code",
   "execution_count": 3,
   "id": "39889100",
   "metadata": {},
   "outputs": [
    {
     "name": "stdout",
     "output_type": "stream",
     "text": [
      "enter a number 18\n",
      "it is an even number\n",
      "and it is not divisable by 4\n"
     ]
    }
   ],
   "source": [
    "i = int(input(\"enter a number \"))\n",
    "if i%2==0:\n",
    "    print(\"it is an even number\")\n",
    "    if i%4==0:\n",
    "        print(\"and it is divisable by 4\")\n",
    "    else:\n",
    "        print(\"and it is not divisable by 4\")\n",
    "else:\n",
    "    print(\"it is a odd number\")"
   ]
  },
  {
   "cell_type": "code",
   "execution_count": 4,
   "id": "92ac8cd7",
   "metadata": {},
   "outputs": [
    {
     "name": "stdout",
     "output_type": "stream",
     "text": [
      "enter your percentage 35\n",
      "you have failed better luck next time\n"
     ]
    }
   ],
   "source": [
    "p = int(input(\"enter your percentage \"))\n",
    "if p>=90:\n",
    "    print(\"excellent you passed in Distinction!!\")\n",
    "elif p>=40: \n",
    "    print(\"you have passed your test\")\n",
    "else:\n",
    "    print(\"you have failed better luck next time\")"
   ]
  },
  {
   "cell_type": "code",
   "execution_count": 5,
   "id": "ca7491a2",
   "metadata": {},
   "outputs": [
    {
     "name": "stdout",
     "output_type": "stream",
     "text": [
      "enter a year 2100\n",
      "it is not a leap year\n"
     ]
    }
   ],
   "source": [
    "y = int(input(\"enter a year \"))\n",
    "if (y%4==0 and y%400==0):\n",
    "    print(\"it is a leap year\")\n",
    "else:\n",
    "    print(\"it is not a leap year\")"
   ]
  }
 ],
 "metadata": {
  "kernelspec": {
   "display_name": "Python 3",
   "language": "python",
   "name": "python3"
  },
  "language_info": {
   "codemirror_mode": {
    "name": "ipython",
    "version": 3
   },
   "file_extension": ".py",
   "mimetype": "text/x-python",
   "name": "python",
   "nbconvert_exporter": "python",
   "pygments_lexer": "ipython3",
   "version": "3.8.8"
  }
 },
 "nbformat": 4,
 "nbformat_minor": 5
}
